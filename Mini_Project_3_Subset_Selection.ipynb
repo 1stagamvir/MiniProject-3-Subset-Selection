{
  "nbformat": 4,
  "nbformat_minor": 0,
  "metadata": {
    "colab": {
      "provenance": [],
      "authorship_tag": "ABX9TyNbxETJhrVahO1LQKXSbnC2",
      "include_colab_link": true
    },
    "kernelspec": {
      "name": "python3",
      "display_name": "Python 3"
    },
    "language_info": {
      "name": "python"
    }
  },
  "cells": [
    {
      "cell_type": "markdown",
      "metadata": {
        "id": "view-in-github",
        "colab_type": "text"
      },
      "source": [
        "<a href=\"https://colab.research.google.com/github/1stagamvir/MiniProject-3-Subset-Selection/blob/main/Mini_Project_3_Subset_Selection.ipynb\" target=\"_parent\"><img src=\"https://colab.research.google.com/assets/colab-badge.svg\" alt=\"Open In Colab\"/></a>"
      ]
    },
    {
      "cell_type": "markdown",
      "source": [
        "# Subset Selection Problem"
      ],
      "metadata": {
        "id": "VkA4IIeZH2Dc"
      }
    },
    {
      "cell_type": "markdown",
      "source": [
        "## 1. Problem Statement:\n",
        "Find all the subsets from a set of numbers whose sum is zero.\n",
        "\n",
        "Constraint: Subset size must be 5\n",
        "\n",
        "Set={-12, -3, -6, 7, 2, -2, 6, 3, 9, -7, -5, -8, 1, 11, -9, -4}\n",
        "\n"
      ],
      "metadata": {
        "id": "UxpySCL0H_Mt"
      }
    },
    {
      "cell_type": "markdown",
      "source": [
        "### 1.1 Library inclusion"
      ],
      "metadata": {
        "id": "F06NmxsRIWy3"
      }
    },
    {
      "cell_type": "code",
      "execution_count": 9,
      "metadata": {
        "id": "rVFEdPHIHu-J"
      },
      "outputs": [],
      "source": [
        "import random as r"
      ]
    },
    {
      "cell_type": "markdown",
      "source": [
        "### 1.2 Parameter"
      ],
      "metadata": {
        "id": "uP-d_f9CIimR"
      }
    },
    {
      "cell_type": "code",
      "source": [
        "Set         = set([-12, -3, -6, 7, 2, -2, 6, 3, 9, -7, -5, -8, 1, 11, -9, -4])\n",
        "SetSize     = 5\n",
        "ResultList  = set()    # Store Result List\n",
        "Iterations  = 1000"
      ],
      "metadata": {
        "id": "SdJQT5nmIqFa"
      },
      "execution_count": 10,
      "outputs": []
    },
    {
      "cell_type": "markdown",
      "source": [
        "### 1.3 Program"
      ],
      "metadata": {
        "id": "9x54M8ogIzcH"
      }
    },
    {
      "cell_type": "code",
      "source": [
        "for i in range(Iterations):\n",
        "    # Select number of elements from Set\n",
        "    Chromosome = r.sample(list(Set),SetSize)\n",
        "\n",
        "    # Sum the number of elements in the x\n",
        "    if sum(Chromosome) == 0:\n",
        "        ResultList.add(tuple(Chromosome))"
      ],
      "metadata": {
        "id": "P4WBk2WMJDKd"
      },
      "execution_count": 11,
      "outputs": []
    },
    {
      "cell_type": "markdown",
      "source": [
        "### 1.4 Print the sets and total count"
      ],
      "metadata": {
        "id": "4ZTvraC7JfOy"
      }
    },
    {
      "cell_type": "code",
      "source": [
        "# Print all the sets whose sum is zero\n",
        "for r in ResultList:\n",
        "\tprint (r)\n",
        "\n",
        "# Print total sets\n",
        "print (\"\\nTotal Sets: \", len(ResultList), \"\\n\")"
      ],
      "metadata": {
        "id": "-lR5qvC2Jkdm",
        "colab": {
          "base_uri": "https://localhost:8080/"
        },
        "outputId": "f4de2246-3364-4f6c-8b44-9a67ae9f166f"
      },
      "execution_count": 12,
      "outputs": [
        {
          "output_type": "stream",
          "name": "stdout",
          "text": [
            "(-7, 1, 6, -2, 2)\n",
            "(6, -9, 3, -2, 2)\n",
            "(-6, 2, 1, -4, 7)\n",
            "(11, -12, -5, 9, -3)\n",
            "(2, 7, -12, 11, -8)\n",
            "(-2, 9, -8, -6, 7)\n",
            "(3, -5, 11, -7, -2)\n",
            "(-7, 2, -4, 3, 6)\n",
            "(-12, -3, 11, 6, -2)\n",
            "(-8, 11, -2, -7, 6)\n",
            "(11, -6, -2, -12, 9)\n",
            "(9, -12, 2, -6, 7)\n",
            "(-3, 11, -9, -2, 3)\n",
            "(6, 9, 1, -9, -7)\n",
            "(11, -9, -4, -7, 9)\n",
            "(11, -9, -4, 9, -7)\n",
            "(3, -7, 1, -8, 11)\n",
            "(-9, 1, 3, -4, 9)\n",
            "(9, 11, 1, -12, -9)\n",
            "(-8, 6, -6, 11, -3)\n",
            "(1, 9, -8, -4, 2)\n",
            "(-12, 9, -7, 7, 3)\n",
            "(-9, 2, -2, 6, 3)\n",
            "(-7, 11, -9, 2, 3)\n",
            "(1, 7, -3, 2, -7)\n",
            "(-4, -7, 1, 7, 3)\n",
            "(11, -3, 3, -9, -2)\n",
            "(2, 6, -2, -7, 1)\n",
            "(1, 3, 9, -7, -6)\n",
            "(7, -9, 11, -5, -4)\n",
            "\n",
            "Total Sets:  30 \n",
            "\n"
          ]
        }
      ]
    },
    {
      "cell_type": "markdown",
      "source": [
        "## Full Program"
      ],
      "metadata": {
        "id": "-TcIEzGPJp6a"
      }
    },
    {
      "cell_type": "code",
      "source": [
        "import random as r\n",
        "\n",
        "Set         = set([-12, -3, -6, 7, 2, -2, 6, 3, 9, -7, -5, -8, 1, 11, -9, -4])\n",
        "SetSize     = 5\n",
        "ResultList  = set()\n",
        "Iterations  = 1000\n",
        "\n",
        "\n",
        "for i in range(Iterations):\n",
        "    Chromosome = r.sample(list(Set),SetSize)\n",
        "\n",
        "    if sum(Chromosome) == 0:\n",
        "        ResultList.add(tuple(Chromosome))\n",
        "\n",
        "\n",
        "for r in ResultList:\n",
        "\tprint (r)\n",
        "\n",
        "\n",
        "print (\"\\nTotal Sets: \", len(ResultList))"
      ],
      "metadata": {
        "id": "3B9UZB9MJwFr",
        "colab": {
          "base_uri": "https://localhost:8080/"
        },
        "outputId": "9e495de7-47ef-4563-b064-4fc1c0e7e4aa"
      },
      "execution_count": 13,
      "outputs": [
        {
          "output_type": "stream",
          "name": "stdout",
          "text": [
            "(-5, 6, -12, 9, 2)\n",
            "(-5, -6, 7, -7, 11)\n",
            "(-12, 11, 1, 3, -3)\n",
            "(-8, 7, 2, -7, 6)\n",
            "(-7, -3, 1, 3, 6)\n",
            "(1, 3, -6, 9, -7)\n",
            "(-12, 2, 7, -6, 9)\n",
            "(1, -4, 11, -2, -6)\n",
            "(9, -4, 1, 3, -9)\n",
            "(9, 7, -3, -4, -9)\n",
            "(-4, 7, 2, -6, 1)\n",
            "(-6, 11, -12, 1, 6)\n",
            "(7, -4, -2, -12, 11)\n",
            "(-12, 9, -5, 7, 1)\n",
            "(1, -4, 2, -2, 3)\n",
            "(-9, 2, 9, -8, 6)\n",
            "(11, -2, -7, -3, 1)\n",
            "(-9, -2, 7, 1, 3)\n",
            "(-9, -5, -2, 7, 9)\n",
            "(-3, 9, 6, -4, -8)\n",
            "(-7, 9, -3, -2, 3)\n",
            "(-7, 9, 6, -9, 1)\n",
            "(7, -9, -12, 11, 3)\n",
            "(-3, -6, 11, -4, 2)\n",
            "(-3, -9, -4, 7, 9)\n",
            "(2, -5, -2, 11, -6)\n",
            "(-12, 6, -2, 1, 7)\n",
            "(11, -9, -2, 3, -3)\n",
            "(-5, -6, 11, 7, -7)\n",
            "(-5, 7, -3, 9, -8)\n",
            "\n",
            "Total Sets:  30\n"
          ]
        }
      ]
    }
  ]
}